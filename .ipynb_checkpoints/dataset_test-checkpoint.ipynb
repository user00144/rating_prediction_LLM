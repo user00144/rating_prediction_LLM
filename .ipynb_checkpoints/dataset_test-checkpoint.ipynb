{
 "cells": [
  {
   "cell_type": "code",
   "execution_count": 1,
   "id": "1754400e-bb3d-436e-b636-052e894c04aa",
   "metadata": {
    "execution": {
     "iopub.execute_input": "2024-05-28T23:24:31.343714Z",
     "iopub.status.busy": "2024-05-28T23:24:31.342771Z",
     "iopub.status.idle": "2024-05-28T23:24:31.558969Z",
     "shell.execute_reply": "2024-05-28T23:24:31.557414Z",
     "shell.execute_reply.started": "2024-05-28T23:24:31.343671Z"
    }
   },
   "outputs": [],
   "source": [
    "import jsonlines\n",
    "import tqdm\n",
    "\n",
    "# meta_Movies_and_TV = []\n",
    "reviews = []\n",
    "\n",
    "# with jsonlines.open('meta_Movies_and_TV.jsonl') as file :\n",
    "#     for i in file :\n",
    "#         meta_Movies_and_TV.append(i)\n",
    "\n",
    "stop = 0\n",
    "\n",
    "with jsonlines.open('Movies_and_TV.jsonl') as file :\n",
    "    for i in file :\n",
    "        if stop > 5 :\n",
    "            break\n",
    "        reviews.append(i)\n",
    "        stop = stop + 1\n"
   ]
  },
  {
   "cell_type": "code",
   "execution_count": 2,
   "id": "7f58ff21-99b0-4732-b9a7-efd63678dcfd",
   "metadata": {
    "execution": {
     "iopub.execute_input": "2024-05-28T23:24:41.148568Z",
     "iopub.status.busy": "2024-05-28T23:24:41.148023Z",
     "iopub.status.idle": "2024-05-28T23:24:41.159904Z",
     "shell.execute_reply": "2024-05-28T23:24:41.158633Z",
     "shell.execute_reply.started": "2024-05-28T23:24:41.148530Z"
    }
   },
   "outputs": [
    {
     "data": {
      "text/plain": [
       "{'rating': 5.0,\n",
       " 'title': 'Five Stars',\n",
       " 'text': 'My Kiddos LOVE this show!!',\n",
       " 'images': [],\n",
       " 'asin': 'B00CB6VTDS',\n",
       " 'parent_asin': 'B00CB6VTDS',\n",
       " 'user_id': 'AGKASBHYZPGTEPO6LWZPVJWB2BVA',\n",
       " 'timestamp': 1461100610000,\n",
       " 'helpful_vote': 0,\n",
       " 'verified_purchase': True}"
      ]
     },
     "execution_count": 2,
     "metadata": {},
     "output_type": "execute_result"
    }
   ],
   "source": [
    "reviews[1]"
   ]
  },
  {
   "cell_type": "code",
   "execution_count": 6,
   "id": "cf24b8ec-0316-4e0c-b3e6-b8b0266cf941",
   "metadata": {
    "execution": {
     "iopub.execute_input": "2024-04-17T03:02:29.135588Z",
     "iopub.status.busy": "2024-04-17T03:02:29.134619Z",
     "iopub.status.idle": "2024-04-17T03:02:35.059096Z",
     "shell.execute_reply": "2024-04-17T03:02:35.058406Z",
     "shell.execute_reply.started": "2024-04-17T03:02:29.135534Z"
    }
   },
   "outputs": [
    {
     "ename": "AttributeError",
     "evalue": "'list' object has no attribute 'shape'",
     "output_type": "error",
     "traceback": [
      "\u001b[0;31m---------------------------------------------------------------------------\u001b[0m",
      "\u001b[0;31mAttributeError\u001b[0m                            Traceback (most recent call last)",
      "Cell \u001b[0;32mIn[6], line 3\u001b[0m\n\u001b[1;32m      1\u001b[0m \u001b[38;5;28;01mfrom\u001b[39;00m \u001b[38;5;21;01msklearn\u001b[39;00m\u001b[38;5;21;01m.\u001b[39;00m\u001b[38;5;21;01mmodel_selection\u001b[39;00m \u001b[38;5;28;01mimport\u001b[39;00m train_test_split\n\u001b[1;32m      2\u001b[0m x_train, x_valid \u001b[38;5;241m=\u001b[39m train_test_split(reviews,test_size\u001b[38;5;241m=\u001b[39m\u001b[38;5;241m0.2\u001b[39m, shuffle\u001b[38;5;241m=\u001b[39m\u001b[38;5;28;01mTrue\u001b[39;00m, random_state\u001b[38;5;241m=\u001b[39m\u001b[38;5;241m34\u001b[39m)\n\u001b[0;32m----> 3\u001b[0m \u001b[38;5;28mprint\u001b[39m(\u001b[43mx_train\u001b[49m\u001b[38;5;241;43m.\u001b[39;49m\u001b[43mshape\u001b[49m, x_valid\u001b[38;5;241m.\u001b[39mshape)\n",
      "\u001b[0;31mAttributeError\u001b[0m: 'list' object has no attribute 'shape'"
     ]
    }
   ],
   "source": [
    "from sklearn.model_selection import train_test_split\n",
    "x_train, x_valid = train_test_split(reviews,test_size=0.2, shuffle=True, random_state=34)\n"
   ]
  },
  {
   "cell_type": "code",
   "execution_count": 7,
   "id": "30492ebc-3ab5-4112-8c01-7f06e5c78be5",
   "metadata": {
    "execution": {
     "iopub.execute_input": "2024-04-17T03:02:48.501055Z",
     "iopub.status.busy": "2024-04-17T03:02:48.500447Z",
     "iopub.status.idle": "2024-04-17T03:02:48.507268Z",
     "shell.execute_reply": "2024-04-17T03:02:48.506668Z",
     "shell.execute_reply.started": "2024-04-17T03:02:48.501011Z"
    }
   },
   "outputs": [
    {
     "data": {
      "text/plain": [
       "13862651"
      ]
     },
     "execution_count": 7,
     "metadata": {},
     "output_type": "execute_result"
    }
   ],
   "source": [
    "len(x_train)"
   ]
  },
  {
   "cell_type": "code",
   "execution_count": 9,
   "id": "cd7fac71-6ea3-4743-9c13-6414fcdb38e9",
   "metadata": {
    "execution": {
     "iopub.execute_input": "2024-04-17T03:02:59.714768Z",
     "iopub.status.busy": "2024-04-17T03:02:59.714119Z",
     "iopub.status.idle": "2024-04-17T03:02:59.725620Z",
     "shell.execute_reply": "2024-04-17T03:02:59.723642Z",
     "shell.execute_reply.started": "2024-04-17T03:02:59.714685Z"
    }
   },
   "outputs": [
    {
     "data": {
      "text/plain": [
       "3465663"
      ]
     },
     "execution_count": 9,
     "metadata": {},
     "output_type": "execute_result"
    }
   ],
   "source": [
    "len(x_valid)"
   ]
  },
  {
   "cell_type": "code",
   "execution_count": null,
   "id": "addfa970-9d33-46a7-b0ed-3d1f60347386",
   "metadata": {},
   "outputs": [],
   "source": [
    "from torch.utils import Dataset, DataLoader\n",
    "\n",
    "class CustomDataset(Dataset) :\n",
    "    def __init__(self, data, tokenizer, max_length) :\n",
    "        self.data = data\n",
    "        self.tokenizer = tokenizer\n",
    "        self.max_length = max_length\n",
    "\n",
    "    def __getitem__(self, idx) :\n",
    "        prompt = make_prompt(self.data[idx])\n",
    "        model_inputs = tokenize(prompt, self.data[idx]['rating']\n",
    "        return model_inputs\n",
    "        \n",
    "    def make_prompt(self. review) :\n",
    "        user_id = review['user_id']\n",
    "        movie_title = review['title']\n",
    "        review = review['text']\n",
    "        rating = review['rating']\n",
    "        prompt = f\"User id : {user_id}\\n Target : {movie_title}\\n Review text : {review}\\n Prompt : According to above information, what star rating would the user {user_id} give? \"\n",
    "        return prompt\n",
    "        \n",
    "    def tokenize(prompt, label)\n",
    "        model_inputs = self.tokenizer(prompt, max_length = self.max_length, padding=\"max_length\", truncation=True, return_tensors=\"pt\")\n",
    "        labels = self.tokenizer(rating, max_length = 5, padding = \"max_length\", truncation=True, return_tensors=\"pt\")\n",
    "        labels[labels == self.tokenizer.pad_token_id] = -100\n",
    "        model_inputs[\"labels\"] = labels\n",
    "        return model_inputs\n",
    "        \n",
    "    def __len__(self) :\n",
    "        return len(self.data)"
   ]
  },
  {
   "cell_type": "code",
   "execution_count": 6,
   "id": "4cc11d77-1023-4ee2-b7ed-f104d63e210f",
   "metadata": {
    "execution": {
     "iopub.execute_input": "2024-04-16T03:16:43.959281Z",
     "iopub.status.busy": "2024-04-16T03:16:43.958634Z",
     "iopub.status.idle": "2024-04-16T03:16:44.014411Z",
     "shell.execute_reply": "2024-04-16T03:16:44.014085Z",
     "shell.execute_reply.started": "2024-04-16T03:16:43.959234Z"
    }
   },
   "outputs": [
    {
     "ename": "TypeError",
     "evalue": "the JSON object must be str, bytes or bytearray, not Reader",
     "output_type": "error",
     "traceback": [
      "\u001b[0;31m---------------------------------------------------------------------------\u001b[0m",
      "\u001b[0;31mTypeError\u001b[0m                                 Traceback (most recent call last)",
      "Cell \u001b[0;32mIn[6], line 14\u001b[0m\n\u001b[1;32m     10\u001b[0m         review \u001b[38;5;241m=\u001b[39m file[idx][\u001b[38;5;124m'\u001b[39m\u001b[38;5;124mtext\u001b[39m\u001b[38;5;124m'\u001b[39m]\n\u001b[1;32m     11\u001b[0m         rating \u001b[38;5;241m=\u001b[39m file[idx][\u001b[38;5;124m'\u001b[39m\u001b[38;5;124mrating\u001b[39m\u001b[38;5;124m'\u001b[39m]\n\u001b[0;32m---> 14\u001b[0m \u001b[43mmake_prompt\u001b[49m\u001b[43m(\u001b[49m\u001b[38;5;241;43m1\u001b[39;49m\u001b[43m)\u001b[49m\n",
      "Cell \u001b[0;32mIn[6], line 6\u001b[0m, in \u001b[0;36mmake_prompt\u001b[0;34m(idx)\u001b[0m\n\u001b[1;32m      4\u001b[0m \u001b[38;5;28;01mdef\u001b[39;00m \u001b[38;5;21mmake_prompt\u001b[39m(idx) :\n\u001b[1;32m      5\u001b[0m     \u001b[38;5;28;01mwith\u001b[39;00m jsonlines\u001b[38;5;241m.\u001b[39mopen(\u001b[38;5;124m'\u001b[39m\u001b[38;5;124mMovies_and_TV.jsonl\u001b[39m\u001b[38;5;124m'\u001b[39m) \u001b[38;5;28;01mas\u001b[39;00m file :\n\u001b[0;32m----> 6\u001b[0m         \u001b[38;5;28mprint\u001b[39m(\u001b[43mjson\u001b[49m\u001b[38;5;241;43m.\u001b[39;49m\u001b[43mloads\u001b[49m\u001b[43m(\u001b[49m\u001b[43mfile\u001b[49m\u001b[43m)\u001b[49m)\n\u001b[1;32m      7\u001b[0m         user_id \u001b[38;5;241m=\u001b[39m file[idx][\u001b[38;5;124m'\u001b[39m\u001b[38;5;124muser_id\u001b[39m\u001b[38;5;124m'\u001b[39m]\n\u001b[1;32m      8\u001b[0m         asin_item \u001b[38;5;241m=\u001b[39m file[idx][\u001b[38;5;124m'\u001b[39m\u001b[38;5;124masin\u001b[39m\u001b[38;5;124m'\u001b[39m]\n",
      "File \u001b[0;32m/usr/lib/python3.10/json/__init__.py:339\u001b[0m, in \u001b[0;36mloads\u001b[0;34m(s, cls, object_hook, parse_float, parse_int, parse_constant, object_pairs_hook, **kw)\u001b[0m\n\u001b[1;32m    337\u001b[0m \u001b[38;5;28;01melse\u001b[39;00m:\n\u001b[1;32m    338\u001b[0m     \u001b[38;5;28;01mif\u001b[39;00m \u001b[38;5;129;01mnot\u001b[39;00m \u001b[38;5;28misinstance\u001b[39m(s, (\u001b[38;5;28mbytes\u001b[39m, \u001b[38;5;28mbytearray\u001b[39m)):\n\u001b[0;32m--> 339\u001b[0m         \u001b[38;5;28;01mraise\u001b[39;00m \u001b[38;5;167;01mTypeError\u001b[39;00m(\u001b[38;5;124mf\u001b[39m\u001b[38;5;124m'\u001b[39m\u001b[38;5;124mthe JSON object must be str, bytes or bytearray, \u001b[39m\u001b[38;5;124m'\u001b[39m\n\u001b[1;32m    340\u001b[0m                         \u001b[38;5;124mf\u001b[39m\u001b[38;5;124m'\u001b[39m\u001b[38;5;124mnot \u001b[39m\u001b[38;5;132;01m{\u001b[39;00ms\u001b[38;5;241m.\u001b[39m\u001b[38;5;18m__class__\u001b[39m\u001b[38;5;241m.\u001b[39m\u001b[38;5;18m__name__\u001b[39m\u001b[38;5;132;01m}\u001b[39;00m\u001b[38;5;124m'\u001b[39m)\n\u001b[1;32m    341\u001b[0m     s \u001b[38;5;241m=\u001b[39m s\u001b[38;5;241m.\u001b[39mdecode(detect_encoding(s), \u001b[38;5;124m'\u001b[39m\u001b[38;5;124msurrogatepass\u001b[39m\u001b[38;5;124m'\u001b[39m)\n\u001b[1;32m    343\u001b[0m \u001b[38;5;28;01mif\u001b[39;00m (\u001b[38;5;28mcls\u001b[39m \u001b[38;5;129;01mis\u001b[39;00m \u001b[38;5;28;01mNone\u001b[39;00m \u001b[38;5;129;01mand\u001b[39;00m object_hook \u001b[38;5;129;01mis\u001b[39;00m \u001b[38;5;28;01mNone\u001b[39;00m \u001b[38;5;129;01mand\u001b[39;00m\n\u001b[1;32m    344\u001b[0m         parse_int \u001b[38;5;129;01mis\u001b[39;00m \u001b[38;5;28;01mNone\u001b[39;00m \u001b[38;5;129;01mand\u001b[39;00m parse_float \u001b[38;5;129;01mis\u001b[39;00m \u001b[38;5;28;01mNone\u001b[39;00m \u001b[38;5;129;01mand\u001b[39;00m\n\u001b[1;32m    345\u001b[0m         parse_constant \u001b[38;5;129;01mis\u001b[39;00m \u001b[38;5;28;01mNone\u001b[39;00m \u001b[38;5;129;01mand\u001b[39;00m object_pairs_hook \u001b[38;5;129;01mis\u001b[39;00m \u001b[38;5;28;01mNone\u001b[39;00m \u001b[38;5;129;01mand\u001b[39;00m \u001b[38;5;129;01mnot\u001b[39;00m kw):\n",
      "\u001b[0;31mTypeError\u001b[0m: the JSON object must be str, bytes or bytearray, not Reader"
     ]
    }
   ],
   "source": [
    "\n",
    "# #declare-lab/flan-alpaca-gpt4-xl\n",
    "# def pre_processing(review , tokenizer) :\n",
    "#     user_id = review['user_id']\n",
    "#     movie_title = review['title']\n",
    "#     review = review['text']\n",
    "#     rating = review['rating']\n",
    "#     prompt = f\"User id : {user_id}\\n Target : {movie_title}\\n Review text : {review}\\n Prompt : According to above information, what star rating would the user {user_id} give? \"\n",
    "#     model_inputs = tokenizer(prompt, max_length = 2048, padding=\"max_length\", truncation=True, return_tensors=\"pt\")\n",
    "#     labels = tokenizer(rating, max_length = 5, padding = \"max_length\", truncation=True, return_tensors=\"pt\")\n",
    "#     labels[labels == tokenizer.pad_token_id] = -100\n",
    "#     model_inputs[\"labels\"] = labels\n",
    "#     return model_inputs"
   ]
  },
  {
   "cell_type": "code",
   "execution_count": 2,
   "id": "a96308a3-6f39-400b-921a-8731206a97bd",
   "metadata": {
    "execution": {
     "iopub.execute_input": "2024-04-17T02:50:49.999468Z",
     "iopub.status.busy": "2024-04-17T02:50:49.998821Z",
     "iopub.status.idle": "2024-04-17T02:50:52.708203Z",
     "shell.execute_reply": "2024-04-17T02:50:52.707503Z",
     "shell.execute_reply.started": "2024-04-17T02:50:49.999420Z"
    }
   },
   "outputs": [
    {
     "data": {
      "application/vnd.jupyter.widget-view+json": {
       "model_id": "335fdedcf734460896a8f1d503e4a9d9",
       "version_major": 2,
       "version_minor": 0
      },
      "text/plain": [
       "Loading checkpoint shards:   0%|          | 0/2 [00:00<?, ?it/s]"
      ]
     },
     "metadata": {},
     "output_type": "display_data"
    },
    {
     "name": "stdout",
     "output_type": "stream",
     "text": [
      "trainable params: 4,718,592 || all params: 2,854,475,776 || trainable%: 0.16530502867367827\n"
     ]
    }
   ],
   "source": [
    "from transformers import AutoModelForSeq2SeqLM, AutoTokenizer, BitsAndBytesConfig\n",
    "from peft import get_peft_config, get_peft_model, LoraConfig, TaskType\n",
    "\n",
    "model_id = \"declare-lab/flan-alpaca-gpt4-xl\"\n",
    "tokenizer = AutoTokenizer.from_pretrained(model_id)\n",
    "\n",
    "bits_config = BitsAndBytesConfig(load_in_4bit=True)\n",
    "\n",
    "\n",
    "peft_config = LoraConfig(\n",
    "    task_type=TaskType.SEQ_2_SEQ_LM, inference_mode=False, r=8, lora_alpha=32, lora_dropout=0.1\n",
    ")\n",
    "model = AutoModelForSeq2SeqLM.from_pretrained(model_id, quantization_config = bits_config, device_map = \"auto\")\n",
    "model = get_peft_model(model, peft_config)\n",
    "model.print_trainable_parameters()"
   ]
  },
  {
   "cell_type": "code",
   "execution_count": null,
   "id": "ce29256c-4382-4e9d-bac1-070fedd6e187",
   "metadata": {},
   "outputs": [],
   "source": []
  }
 ],
 "metadata": {
  "kernelspec": {
   "display_name": "Python 3 (ipykernel)",
   "language": "python",
   "name": "python3"
  },
  "language_info": {
   "codemirror_mode": {
    "name": "ipython",
    "version": 3
   },
   "file_extension": ".py",
   "mimetype": "text/x-python",
   "name": "python",
   "nbconvert_exporter": "python",
   "pygments_lexer": "ipython3",
   "version": "3.10.12"
  }
 },
 "nbformat": 4,
 "nbformat_minor": 5
}
